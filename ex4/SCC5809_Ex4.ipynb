{
 "cells": [
  {
   "cell_type": "markdown",
   "metadata": {
    "id": "ruNQt07m14JM"
   },
   "source": [
    "SCC5809 - Redes Neurais Artificiais e Aprendizado Profundo\n",
    "\n",
    "**Nome**:  - **NUSP**: "
   ]
  },
  {
   "cell_type": "markdown",
   "metadata": {
    "id": "wRKgyLm-Fxwu"
   },
   "source": [
    "# Exercício 4"
   ]
  },
  {
   "cell_type": "markdown",
   "metadata": {
    "id": "iusYBcz6sBbt"
   },
   "source": [
    "## Bibliotecas"
   ]
  },
  {
   "cell_type": "code",
   "execution_count": 1,
   "metadata": {
    "colab": {
     "base_uri": "https://localhost:8080/"
    },
    "id": "iQqFuGZjFgTa",
    "outputId": "9ac82379-5caa-45e5-feca-d937c6093e54"
   },
   "outputs": [
    {
     "name": "stderr",
     "output_type": "stream",
     "text": [
      "2024-10-09 12:42:14.058697: I external/local_xla/xla/tsl/cuda/cudart_stub.cc:32] Could not find cuda drivers on your machine, GPU will not be used.\n",
      "2024-10-09 12:42:15.649535: I external/local_xla/xla/tsl/cuda/cudart_stub.cc:32] Could not find cuda drivers on your machine, GPU will not be used.\n",
      "2024-10-09 12:42:16.514061: E external/local_xla/xla/stream_executor/cuda/cuda_fft.cc:485] Unable to register cuFFT factory: Attempting to register factory for plugin cuFFT when one has already been registered\n",
      "2024-10-09 12:42:17.413177: E external/local_xla/xla/stream_executor/cuda/cuda_dnn.cc:8454] Unable to register cuDNN factory: Attempting to register factory for plugin cuDNN when one has already been registered\n",
      "2024-10-09 12:42:17.564567: E external/local_xla/xla/stream_executor/cuda/cuda_blas.cc:1452] Unable to register cuBLAS factory: Attempting to register factory for plugin cuBLAS when one has already been registered\n",
      "2024-10-09 12:42:18.800115: I tensorflow/core/platform/cpu_feature_guard.cc:210] This TensorFlow binary is optimized to use available CPU instructions in performance-critical operations.\n",
      "To enable the following instructions: AVX2 FMA, in other operations, rebuild TensorFlow with the appropriate compiler flags.\n",
      "2024-10-09 12:42:28.812210: W tensorflow/compiler/tf2tensorrt/utils/py_utils.cc:38] TF-TRT Warning: Could not find TensorRT\n"
     ]
    },
    {
     "name": "stdout",
     "output_type": "stream",
     "text": [
      "Requirement already satisfied: keras-tcn in /mnt/23bee2eb-117e-4b4e-8f6d-d91de6a0ebb4/Pucci/Documents/Mestrado/.py-venvs/redes-neurais/lib/python3.12/site-packages (3.1.2)\n",
      "Requirement already satisfied: numpy in /mnt/23bee2eb-117e-4b4e-8f6d-d91de6a0ebb4/Pucci/Documents/Mestrado/.py-venvs/redes-neurais/lib/python3.12/site-packages (from keras-tcn) (1.26.4)\n",
      "Requirement already satisfied: tensorflow in /mnt/23bee2eb-117e-4b4e-8f6d-d91de6a0ebb4/Pucci/Documents/Mestrado/.py-venvs/redes-neurais/lib/python3.12/site-packages (from keras-tcn) (2.17.0)\n",
      "Requirement already satisfied: absl-py>=1.0.0 in /mnt/23bee2eb-117e-4b4e-8f6d-d91de6a0ebb4/Pucci/Documents/Mestrado/.py-venvs/redes-neurais/lib/python3.12/site-packages (from tensorflow->keras-tcn) (2.1.0)\n",
      "Requirement already satisfied: astunparse>=1.6.0 in /mnt/23bee2eb-117e-4b4e-8f6d-d91de6a0ebb4/Pucci/Documents/Mestrado/.py-venvs/redes-neurais/lib/python3.12/site-packages (from tensorflow->keras-tcn) (1.6.3)\n",
      "Requirement already satisfied: flatbuffers>=24.3.25 in /mnt/23bee2eb-117e-4b4e-8f6d-d91de6a0ebb4/Pucci/Documents/Mestrado/.py-venvs/redes-neurais/lib/python3.12/site-packages (from tensorflow->keras-tcn) (24.3.25)\n",
      "Requirement already satisfied: gast!=0.5.0,!=0.5.1,!=0.5.2,>=0.2.1 in /mnt/23bee2eb-117e-4b4e-8f6d-d91de6a0ebb4/Pucci/Documents/Mestrado/.py-venvs/redes-neurais/lib/python3.12/site-packages (from tensorflow->keras-tcn) (0.6.0)\n",
      "Requirement already satisfied: google-pasta>=0.1.1 in /mnt/23bee2eb-117e-4b4e-8f6d-d91de6a0ebb4/Pucci/Documents/Mestrado/.py-venvs/redes-neurais/lib/python3.12/site-packages (from tensorflow->keras-tcn) (0.2.0)\n",
      "Requirement already satisfied: h5py>=3.10.0 in /mnt/23bee2eb-117e-4b4e-8f6d-d91de6a0ebb4/Pucci/Documents/Mestrado/.py-venvs/redes-neurais/lib/python3.12/site-packages (from tensorflow->keras-tcn) (3.12.1)\n",
      "Requirement already satisfied: libclang>=13.0.0 in /mnt/23bee2eb-117e-4b4e-8f6d-d91de6a0ebb4/Pucci/Documents/Mestrado/.py-venvs/redes-neurais/lib/python3.12/site-packages (from tensorflow->keras-tcn) (18.1.1)\n",
      "Requirement already satisfied: ml-dtypes<0.5.0,>=0.3.1 in /mnt/23bee2eb-117e-4b4e-8f6d-d91de6a0ebb4/Pucci/Documents/Mestrado/.py-venvs/redes-neurais/lib/python3.12/site-packages (from tensorflow->keras-tcn) (0.4.1)\n",
      "Requirement already satisfied: opt-einsum>=2.3.2 in /mnt/23bee2eb-117e-4b4e-8f6d-d91de6a0ebb4/Pucci/Documents/Mestrado/.py-venvs/redes-neurais/lib/python3.12/site-packages (from tensorflow->keras-tcn) (3.4.0)\n",
      "Requirement already satisfied: packaging in /mnt/23bee2eb-117e-4b4e-8f6d-d91de6a0ebb4/Pucci/Documents/Mestrado/.py-venvs/redes-neurais/lib/python3.12/site-packages (from tensorflow->keras-tcn) (24.1)\n",
      "Requirement already satisfied: protobuf!=4.21.0,!=4.21.1,!=4.21.2,!=4.21.3,!=4.21.4,!=4.21.5,<5.0.0dev,>=3.20.3 in /mnt/23bee2eb-117e-4b4e-8f6d-d91de6a0ebb4/Pucci/Documents/Mestrado/.py-venvs/redes-neurais/lib/python3.12/site-packages (from tensorflow->keras-tcn) (4.25.5)\n",
      "Requirement already satisfied: requests<3,>=2.21.0 in /mnt/23bee2eb-117e-4b4e-8f6d-d91de6a0ebb4/Pucci/Documents/Mestrado/.py-venvs/redes-neurais/lib/python3.12/site-packages (from tensorflow->keras-tcn) (2.32.3)\n",
      "Requirement already satisfied: setuptools in /mnt/23bee2eb-117e-4b4e-8f6d-d91de6a0ebb4/Pucci/Documents/Mestrado/.py-venvs/redes-neurais/lib/python3.12/site-packages (from tensorflow->keras-tcn) (75.1.0)\n",
      "Requirement already satisfied: six>=1.12.0 in /mnt/23bee2eb-117e-4b4e-8f6d-d91de6a0ebb4/Pucci/Documents/Mestrado/.py-venvs/redes-neurais/lib/python3.12/site-packages (from tensorflow->keras-tcn) (1.16.0)\n",
      "Requirement already satisfied: termcolor>=1.1.0 in /mnt/23bee2eb-117e-4b4e-8f6d-d91de6a0ebb4/Pucci/Documents/Mestrado/.py-venvs/redes-neurais/lib/python3.12/site-packages (from tensorflow->keras-tcn) (2.4.0)\n",
      "Requirement already satisfied: typing-extensions>=3.6.6 in /mnt/23bee2eb-117e-4b4e-8f6d-d91de6a0ebb4/Pucci/Documents/Mestrado/.py-venvs/redes-neurais/lib/python3.12/site-packages (from tensorflow->keras-tcn) (4.12.2)\n",
      "Requirement already satisfied: wrapt>=1.11.0 in /mnt/23bee2eb-117e-4b4e-8f6d-d91de6a0ebb4/Pucci/Documents/Mestrado/.py-venvs/redes-neurais/lib/python3.12/site-packages (from tensorflow->keras-tcn) (1.16.0)\n",
      "Requirement already satisfied: grpcio<2.0,>=1.24.3 in /mnt/23bee2eb-117e-4b4e-8f6d-d91de6a0ebb4/Pucci/Documents/Mestrado/.py-venvs/redes-neurais/lib/python3.12/site-packages (from tensorflow->keras-tcn) (1.66.1)\n",
      "Requirement already satisfied: tensorboard<2.18,>=2.17 in /mnt/23bee2eb-117e-4b4e-8f6d-d91de6a0ebb4/Pucci/Documents/Mestrado/.py-venvs/redes-neurais/lib/python3.12/site-packages (from tensorflow->keras-tcn) (2.17.1)\n",
      "Requirement already satisfied: keras>=3.2.0 in /mnt/23bee2eb-117e-4b4e-8f6d-d91de6a0ebb4/Pucci/Documents/Mestrado/.py-venvs/redes-neurais/lib/python3.12/site-packages (from tensorflow->keras-tcn) (3.5.0)\n",
      "Requirement already satisfied: wheel<1.0,>=0.23.0 in /mnt/23bee2eb-117e-4b4e-8f6d-d91de6a0ebb4/Pucci/Documents/Mestrado/.py-venvs/redes-neurais/lib/python3.12/site-packages (from astunparse>=1.6.0->tensorflow->keras-tcn) (0.44.0)\n",
      "Requirement already satisfied: rich in /mnt/23bee2eb-117e-4b4e-8f6d-d91de6a0ebb4/Pucci/Documents/Mestrado/.py-venvs/redes-neurais/lib/python3.12/site-packages (from keras>=3.2.0->tensorflow->keras-tcn) (13.8.1)\n",
      "Requirement already satisfied: namex in /mnt/23bee2eb-117e-4b4e-8f6d-d91de6a0ebb4/Pucci/Documents/Mestrado/.py-venvs/redes-neurais/lib/python3.12/site-packages (from keras>=3.2.0->tensorflow->keras-tcn) (0.0.8)\n",
      "Requirement already satisfied: optree in /mnt/23bee2eb-117e-4b4e-8f6d-d91de6a0ebb4/Pucci/Documents/Mestrado/.py-venvs/redes-neurais/lib/python3.12/site-packages (from keras>=3.2.0->tensorflow->keras-tcn) (0.12.1)\n",
      "Requirement already satisfied: charset-normalizer<4,>=2 in /mnt/23bee2eb-117e-4b4e-8f6d-d91de6a0ebb4/Pucci/Documents/Mestrado/.py-venvs/redes-neurais/lib/python3.12/site-packages (from requests<3,>=2.21.0->tensorflow->keras-tcn) (3.3.2)\n",
      "Requirement already satisfied: idna<4,>=2.5 in /mnt/23bee2eb-117e-4b4e-8f6d-d91de6a0ebb4/Pucci/Documents/Mestrado/.py-venvs/redes-neurais/lib/python3.12/site-packages (from requests<3,>=2.21.0->tensorflow->keras-tcn) (3.10)\n",
      "Requirement already satisfied: urllib3<3,>=1.21.1 in /mnt/23bee2eb-117e-4b4e-8f6d-d91de6a0ebb4/Pucci/Documents/Mestrado/.py-venvs/redes-neurais/lib/python3.12/site-packages (from requests<3,>=2.21.0->tensorflow->keras-tcn) (2.2.3)\n",
      "Requirement already satisfied: certifi>=2017.4.17 in /mnt/23bee2eb-117e-4b4e-8f6d-d91de6a0ebb4/Pucci/Documents/Mestrado/.py-venvs/redes-neurais/lib/python3.12/site-packages (from requests<3,>=2.21.0->tensorflow->keras-tcn) (2024.8.30)\n",
      "Requirement already satisfied: markdown>=2.6.8 in /mnt/23bee2eb-117e-4b4e-8f6d-d91de6a0ebb4/Pucci/Documents/Mestrado/.py-venvs/redes-neurais/lib/python3.12/site-packages (from tensorboard<2.18,>=2.17->tensorflow->keras-tcn) (3.7)\n",
      "Requirement already satisfied: tensorboard-data-server<0.8.0,>=0.7.0 in /mnt/23bee2eb-117e-4b4e-8f6d-d91de6a0ebb4/Pucci/Documents/Mestrado/.py-venvs/redes-neurais/lib/python3.12/site-packages (from tensorboard<2.18,>=2.17->tensorflow->keras-tcn) (0.7.2)\n",
      "Requirement already satisfied: werkzeug>=1.0.1 in /mnt/23bee2eb-117e-4b4e-8f6d-d91de6a0ebb4/Pucci/Documents/Mestrado/.py-venvs/redes-neurais/lib/python3.12/site-packages (from tensorboard<2.18,>=2.17->tensorflow->keras-tcn) (3.0.4)\n",
      "Requirement already satisfied: MarkupSafe>=2.1.1 in /mnt/23bee2eb-117e-4b4e-8f6d-d91de6a0ebb4/Pucci/Documents/Mestrado/.py-venvs/redes-neurais/lib/python3.12/site-packages (from werkzeug>=1.0.1->tensorboard<2.18,>=2.17->tensorflow->keras-tcn) (2.1.5)\n",
      "Requirement already satisfied: markdown-it-py>=2.2.0 in /mnt/23bee2eb-117e-4b4e-8f6d-d91de6a0ebb4/Pucci/Documents/Mestrado/.py-venvs/redes-neurais/lib/python3.12/site-packages (from rich->keras>=3.2.0->tensorflow->keras-tcn) (3.0.0)\n",
      "Requirement already satisfied: pygments<3.0.0,>=2.13.0 in /mnt/23bee2eb-117e-4b4e-8f6d-d91de6a0ebb4/Pucci/Documents/Mestrado/.py-venvs/redes-neurais/lib/python3.12/site-packages (from rich->keras>=3.2.0->tensorflow->keras-tcn) (2.18.0)\n",
      "Requirement already satisfied: mdurl~=0.1 in /mnt/23bee2eb-117e-4b4e-8f6d-d91de6a0ebb4/Pucci/Documents/Mestrado/.py-venvs/redes-neurais/lib/python3.12/site-packages (from markdown-it-py>=2.2.0->rich->keras>=3.2.0->tensorflow->keras-tcn) (0.1.2)\n"
     ]
    }
   ],
   "source": [
    "# TensorFlow and tf.keras\n",
    "import tensorflow as tf\n",
    "from tensorflow import keras\n",
    "from keras.models import Sequential\n",
    "from keras.layers import Dense, LSTM, GRU, SimpleRNN\n",
    "from keras.layers import Dropout\n",
    "# TCN\n",
    "!pip install keras-tcn\n",
    "from tcn import TCN, tcn_full_summary\n",
    "# Preprocessing\n",
    "from sklearn.preprocessing import MinMaxScaler\n",
    "\n",
    "# Helper libraries\n",
    "import pandas as pd\n",
    "import numpy as np\n",
    "import matplotlib.pyplot as plt\n",
    "from matplotlib.image import imread"
   ]
  },
  {
   "cell_type": "markdown",
   "metadata": {
    "id": "IzxqWjGseMyA"
   },
   "source": [
    "## Carregando os dados (IPCA)"
   ]
  },
  {
   "cell_type": "code",
   "execution_count": 2,
   "metadata": {
    "id": "L4Od1Xw3P-6M"
   },
   "outputs": [],
   "source": [
    "inflacao = 'inflacao.csv'"
   ]
  },
  {
   "cell_type": "code",
   "execution_count": 3,
   "metadata": {
    "id": "wF4pfu5keESF"
   },
   "outputs": [],
   "source": [
    "df = pd.read_csv(inflacao)"
   ]
  },
  {
   "cell_type": "code",
   "execution_count": 4,
   "metadata": {
    "colab": {
     "base_uri": "https://localhost:8080/"
    },
    "id": "OgNiTN08htsF",
    "outputId": "899acb05-e34d-4787-d138-4a78ee8e6f09"
   },
   "outputs": [
    {
     "data": {
      "text/plain": [
       "(521, 26)"
      ]
     },
     "execution_count": 4,
     "metadata": {},
     "output_type": "execute_result"
    }
   ],
   "source": [
    "df.shape"
   ]
  },
  {
   "cell_type": "code",
   "execution_count": 5,
   "metadata": {
    "id": "DDFGLPJOtj6s"
   },
   "outputs": [],
   "source": [
    "df_ipca = pd.DataFrame(data=df.values, index=df.referencia, columns=df.columns)"
   ]
  },
  {
   "cell_type": "code",
   "execution_count": 6,
   "metadata": {
    "colab": {
     "base_uri": "https://localhost:8080/",
     "height": 287
    },
    "id": "qcQtH6vVeKz6",
    "outputId": "d08a3f64-67da-4a8c-b763-19e86afcfad8"
   },
   "outputs": [
    {
     "data": {
      "text/html": [
       "<div>\n",
       "<style scoped>\n",
       "    .dataframe tbody tr th:only-of-type {\n",
       "        vertical-align: middle;\n",
       "    }\n",
       "\n",
       "    .dataframe tbody tr th {\n",
       "        vertical-align: top;\n",
       "    }\n",
       "\n",
       "    .dataframe thead th {\n",
       "        text-align: right;\n",
       "    }\n",
       "</style>\n",
       "<table border=\"1\" class=\"dataframe\">\n",
       "  <thead>\n",
       "    <tr style=\"text-align: right;\">\n",
       "      <th></th>\n",
       "      <th>referencia</th>\n",
       "      <th>ano</th>\n",
       "      <th>mes</th>\n",
       "      <th>ano_mes</th>\n",
       "      <th>ipca_variacao</th>\n",
       "      <th>ipca_acumulado_ano</th>\n",
       "      <th>ipca_acumulado_doze_meses</th>\n",
       "      <th>ipca15_variacao</th>\n",
       "      <th>ipca15_acumulado_ano</th>\n",
       "      <th>ipca15_acumulado_doze_meses</th>\n",
       "      <th>...</th>\n",
       "      <th>ipc_fipe_acumulado_ano</th>\n",
       "      <th>incc_variacao</th>\n",
       "      <th>incc_acumulado_ano</th>\n",
       "      <th>incc_m_variacao</th>\n",
       "      <th>incc_m_acumulado_ano</th>\n",
       "      <th>selic_meta</th>\n",
       "      <th>selic_ano</th>\n",
       "      <th>juros_reais</th>\n",
       "      <th>salario_minimo</th>\n",
       "      <th>consolidado_ano</th>\n",
       "    </tr>\n",
       "    <tr>\n",
       "      <th>referencia</th>\n",
       "      <th></th>\n",
       "      <th></th>\n",
       "      <th></th>\n",
       "      <th></th>\n",
       "      <th></th>\n",
       "      <th></th>\n",
       "      <th></th>\n",
       "      <th></th>\n",
       "      <th></th>\n",
       "      <th></th>\n",
       "      <th></th>\n",
       "      <th></th>\n",
       "      <th></th>\n",
       "      <th></th>\n",
       "      <th></th>\n",
       "      <th></th>\n",
       "      <th></th>\n",
       "      <th></th>\n",
       "      <th></th>\n",
       "      <th></th>\n",
       "      <th></th>\n",
       "    </tr>\n",
       "  </thead>\n",
       "  <tbody>\n",
       "    <tr>\n",
       "      <th>1980-01</th>\n",
       "      <td>1980-01</td>\n",
       "      <td>1980</td>\n",
       "      <td>1</td>\n",
       "      <td>198001</td>\n",
       "      <td>6.62</td>\n",
       "      <td>6.62</td>\n",
       "      <td>0.0</td>\n",
       "      <td>0.0</td>\n",
       "      <td>0.0</td>\n",
       "      <td>0.0</td>\n",
       "      <td>...</td>\n",
       "      <td>4.48</td>\n",
       "      <td>4.7</td>\n",
       "      <td>4.7</td>\n",
       "      <td>0.0</td>\n",
       "      <td>0.0</td>\n",
       "      <td>0.0</td>\n",
       "      <td>0.0</td>\n",
       "      <td>0.0</td>\n",
       "      <td>2932.8</td>\n",
       "      <td>False</td>\n",
       "    </tr>\n",
       "    <tr>\n",
       "      <th>1980-02</th>\n",
       "      <td>1980-02</td>\n",
       "      <td>1980</td>\n",
       "      <td>2</td>\n",
       "      <td>198002</td>\n",
       "      <td>4.62</td>\n",
       "      <td>11.54</td>\n",
       "      <td>0.0</td>\n",
       "      <td>0.0</td>\n",
       "      <td>0.0</td>\n",
       "      <td>0.0</td>\n",
       "      <td>...</td>\n",
       "      <td>7.83</td>\n",
       "      <td>9.53</td>\n",
       "      <td>14.23</td>\n",
       "      <td>0.0</td>\n",
       "      <td>0.0</td>\n",
       "      <td>0.0</td>\n",
       "      <td>0.0</td>\n",
       "      <td>0.0</td>\n",
       "      <td>2932.8</td>\n",
       "      <td>False</td>\n",
       "    </tr>\n",
       "    <tr>\n",
       "      <th>1980-03</th>\n",
       "      <td>1980-03</td>\n",
       "      <td>1980</td>\n",
       "      <td>3</td>\n",
       "      <td>198003</td>\n",
       "      <td>6.04</td>\n",
       "      <td>18.27</td>\n",
       "      <td>0.0</td>\n",
       "      <td>0.0</td>\n",
       "      <td>0.0</td>\n",
       "      <td>0.0</td>\n",
       "      <td>...</td>\n",
       "      <td>12.17</td>\n",
       "      <td>12.8</td>\n",
       "      <td>27.03</td>\n",
       "      <td>0.0</td>\n",
       "      <td>0.0</td>\n",
       "      <td>0.0</td>\n",
       "      <td>0.0</td>\n",
       "      <td>0.0</td>\n",
       "      <td>2932.8</td>\n",
       "      <td>False</td>\n",
       "    </tr>\n",
       "    <tr>\n",
       "      <th>1980-04</th>\n",
       "      <td>1980-04</td>\n",
       "      <td>1980</td>\n",
       "      <td>4</td>\n",
       "      <td>198004</td>\n",
       "      <td>5.29</td>\n",
       "      <td>24.53</td>\n",
       "      <td>0.0</td>\n",
       "      <td>0.0</td>\n",
       "      <td>0.0</td>\n",
       "      <td>0.0</td>\n",
       "      <td>...</td>\n",
       "      <td>16.1</td>\n",
       "      <td>3.13</td>\n",
       "      <td>30.16</td>\n",
       "      <td>0.0</td>\n",
       "      <td>0.0</td>\n",
       "      <td>0.0</td>\n",
       "      <td>0.0</td>\n",
       "      <td>0.0</td>\n",
       "      <td>2932.8</td>\n",
       "      <td>False</td>\n",
       "    </tr>\n",
       "    <tr>\n",
       "      <th>1980-05</th>\n",
       "      <td>1980-05</td>\n",
       "      <td>1980</td>\n",
       "      <td>5</td>\n",
       "      <td>198005</td>\n",
       "      <td>5.7</td>\n",
       "      <td>31.63</td>\n",
       "      <td>0.0</td>\n",
       "      <td>0.0</td>\n",
       "      <td>0.0</td>\n",
       "      <td>0.0</td>\n",
       "      <td>...</td>\n",
       "      <td>22.62</td>\n",
       "      <td>4.86</td>\n",
       "      <td>35.02</td>\n",
       "      <td>0.0</td>\n",
       "      <td>0.0</td>\n",
       "      <td>0.0</td>\n",
       "      <td>0.0</td>\n",
       "      <td>0.0</td>\n",
       "      <td>4149.6</td>\n",
       "      <td>False</td>\n",
       "    </tr>\n",
       "  </tbody>\n",
       "</table>\n",
       "<p>5 rows × 26 columns</p>\n",
       "</div>"
      ],
      "text/plain": [
       "           referencia   ano mes ano_mes ipca_variacao ipca_acumulado_ano  \\\n",
       "referencia                                                                 \n",
       "1980-01       1980-01  1980   1  198001          6.62               6.62   \n",
       "1980-02       1980-02  1980   2  198002          4.62              11.54   \n",
       "1980-03       1980-03  1980   3  198003          6.04              18.27   \n",
       "1980-04       1980-04  1980   4  198004          5.29              24.53   \n",
       "1980-05       1980-05  1980   5  198005           5.7              31.63   \n",
       "\n",
       "           ipca_acumulado_doze_meses ipca15_variacao ipca15_acumulado_ano  \\\n",
       "referencia                                                                  \n",
       "1980-01                          0.0             0.0                  0.0   \n",
       "1980-02                          0.0             0.0                  0.0   \n",
       "1980-03                          0.0             0.0                  0.0   \n",
       "1980-04                          0.0             0.0                  0.0   \n",
       "1980-05                          0.0             0.0                  0.0   \n",
       "\n",
       "           ipca15_acumulado_doze_meses  ... ipc_fipe_acumulado_ano  \\\n",
       "referencia                              ...                          \n",
       "1980-01                            0.0  ...                   4.48   \n",
       "1980-02                            0.0  ...                   7.83   \n",
       "1980-03                            0.0  ...                  12.17   \n",
       "1980-04                            0.0  ...                   16.1   \n",
       "1980-05                            0.0  ...                  22.62   \n",
       "\n",
       "           incc_variacao incc_acumulado_ano incc_m_variacao  \\\n",
       "referencia                                                    \n",
       "1980-01              4.7                4.7             0.0   \n",
       "1980-02             9.53              14.23             0.0   \n",
       "1980-03             12.8              27.03             0.0   \n",
       "1980-04             3.13              30.16             0.0   \n",
       "1980-05             4.86              35.02             0.0   \n",
       "\n",
       "           incc_m_acumulado_ano selic_meta selic_ano juros_reais  \\\n",
       "referencia                                                         \n",
       "1980-01                     0.0        0.0       0.0         0.0   \n",
       "1980-02                     0.0        0.0       0.0         0.0   \n",
       "1980-03                     0.0        0.0       0.0         0.0   \n",
       "1980-04                     0.0        0.0       0.0         0.0   \n",
       "1980-05                     0.0        0.0       0.0         0.0   \n",
       "\n",
       "           salario_minimo consolidado_ano  \n",
       "referencia                                 \n",
       "1980-01            2932.8           False  \n",
       "1980-02            2932.8           False  \n",
       "1980-03            2932.8           False  \n",
       "1980-04            2932.8           False  \n",
       "1980-05            4149.6           False  \n",
       "\n",
       "[5 rows x 26 columns]"
      ]
     },
     "execution_count": 6,
     "metadata": {},
     "output_type": "execute_result"
    }
   ],
   "source": [
    "df_ipca.head()"
   ]
  },
  {
   "cell_type": "markdown",
   "metadata": {
    "id": "gG0BG-ImsKP_"
   },
   "source": [
    "Vamos remover colunas que não são valores mensais e meta da Selic, visto que a meta é uma expectativa e não um valor real."
   ]
  },
  {
   "cell_type": "code",
   "execution_count": 7,
   "metadata": {
    "id": "WaFPpn60sZZR"
   },
   "outputs": [],
   "source": [
    "columns_to_remove = ['referencia', 'ano', 'mes', 'ano_mes', 'ipca_acumulado_ano', 'ipca_acumulado_doze_meses', 'ipca15_variacao', 'ipca15_acumulado_ano', 'ipca15_acumulado_doze_meses', 'inpc_acumulado_ano', 'inpc_acumulado_doze_meses', 'ipa_acumulado_ano', 'ipc_fipe_acumulado_ano', 'incc_acumulado_ano', 'incc_m_acumulado_ano', 'selic_meta', 'consolidado_ano']"
   ]
  },
  {
   "cell_type": "code",
   "execution_count": 8,
   "metadata": {
    "colab": {
     "base_uri": "https://localhost:8080/",
     "height": 475
    },
    "id": "uNaadDIdyd-P",
    "outputId": "3ec14c11-d060-4c55-b12b-d0aff4235426"
   },
   "outputs": [
    {
     "data": {
      "text/html": [
       "<div>\n",
       "<style scoped>\n",
       "    .dataframe tbody tr th:only-of-type {\n",
       "        vertical-align: middle;\n",
       "    }\n",
       "\n",
       "    .dataframe tbody tr th {\n",
       "        vertical-align: top;\n",
       "    }\n",
       "\n",
       "    .dataframe thead th {\n",
       "        text-align: right;\n",
       "    }\n",
       "</style>\n",
       "<table border=\"1\" class=\"dataframe\">\n",
       "  <thead>\n",
       "    <tr style=\"text-align: right;\">\n",
       "      <th></th>\n",
       "      <th>ipca_variacao</th>\n",
       "      <th>inpc_variacao</th>\n",
       "      <th>ipa_variacao</th>\n",
       "      <th>ipc_fipe_variacao</th>\n",
       "      <th>incc_variacao</th>\n",
       "      <th>incc_m_variacao</th>\n",
       "      <th>selic_ano</th>\n",
       "      <th>juros_reais</th>\n",
       "      <th>salario_minimo</th>\n",
       "    </tr>\n",
       "    <tr>\n",
       "      <th>referencia</th>\n",
       "      <th></th>\n",
       "      <th></th>\n",
       "      <th></th>\n",
       "      <th></th>\n",
       "      <th></th>\n",
       "      <th></th>\n",
       "      <th></th>\n",
       "      <th></th>\n",
       "      <th></th>\n",
       "    </tr>\n",
       "  </thead>\n",
       "  <tbody>\n",
       "    <tr>\n",
       "      <th>1980-01</th>\n",
       "      <td>6.62</td>\n",
       "      <td>6.56</td>\n",
       "      <td>7.31</td>\n",
       "      <td>4.48</td>\n",
       "      <td>4.7</td>\n",
       "      <td>0.0</td>\n",
       "      <td>0.0</td>\n",
       "      <td>0.0</td>\n",
       "      <td>2932.8</td>\n",
       "    </tr>\n",
       "    <tr>\n",
       "      <th>1980-02</th>\n",
       "      <td>4.62</td>\n",
       "      <td>4.15</td>\n",
       "      <td>3.69</td>\n",
       "      <td>3.35</td>\n",
       "      <td>9.53</td>\n",
       "      <td>0.0</td>\n",
       "      <td>0.0</td>\n",
       "      <td>0.0</td>\n",
       "      <td>2932.8</td>\n",
       "    </tr>\n",
       "    <tr>\n",
       "      <th>1980-03</th>\n",
       "      <td>6.04</td>\n",
       "      <td>5.12</td>\n",
       "      <td>6.32</td>\n",
       "      <td>4.34</td>\n",
       "      <td>12.8</td>\n",
       "      <td>0.0</td>\n",
       "      <td>0.0</td>\n",
       "      <td>0.0</td>\n",
       "      <td>2932.8</td>\n",
       "    </tr>\n",
       "    <tr>\n",
       "      <th>1980-04</th>\n",
       "      <td>5.29</td>\n",
       "      <td>4.85</td>\n",
       "      <td>6.69</td>\n",
       "      <td>3.93</td>\n",
       "      <td>3.13</td>\n",
       "      <td>0.0</td>\n",
       "      <td>0.0</td>\n",
       "      <td>0.0</td>\n",
       "      <td>2932.8</td>\n",
       "    </tr>\n",
       "    <tr>\n",
       "      <th>1980-05</th>\n",
       "      <td>5.7</td>\n",
       "      <td>5.53</td>\n",
       "      <td>7.32</td>\n",
       "      <td>6.52</td>\n",
       "      <td>4.86</td>\n",
       "      <td>0.0</td>\n",
       "      <td>0.0</td>\n",
       "      <td>0.0</td>\n",
       "      <td>4149.6</td>\n",
       "    </tr>\n",
       "    <tr>\n",
       "      <th>...</th>\n",
       "      <td>...</td>\n",
       "      <td>...</td>\n",
       "      <td>...</td>\n",
       "      <td>...</td>\n",
       "      <td>...</td>\n",
       "      <td>...</td>\n",
       "      <td>...</td>\n",
       "      <td>...</td>\n",
       "      <td>...</td>\n",
       "    </tr>\n",
       "    <tr>\n",
       "      <th>2023-01</th>\n",
       "      <td>0.53</td>\n",
       "      <td>0.46</td>\n",
       "      <td>-0.19</td>\n",
       "      <td>0.63</td>\n",
       "      <td>0.46</td>\n",
       "      <td>0.32</td>\n",
       "      <td>13.65</td>\n",
       "      <td>7.45</td>\n",
       "      <td>1302.0</td>\n",
       "    </tr>\n",
       "    <tr>\n",
       "      <th>2023-02</th>\n",
       "      <td>0.84</td>\n",
       "      <td>0.77</td>\n",
       "      <td>-0.04</td>\n",
       "      <td>0.43</td>\n",
       "      <td>0.05</td>\n",
       "      <td>0.21</td>\n",
       "      <td>13.65</td>\n",
       "      <td>7.62</td>\n",
       "      <td>1302.0</td>\n",
       "    </tr>\n",
       "    <tr>\n",
       "      <th>2023-03</th>\n",
       "      <td>0.71</td>\n",
       "      <td>0.64</td>\n",
       "      <td>-0.71</td>\n",
       "      <td>0.39</td>\n",
       "      <td>0.3</td>\n",
       "      <td>0.18</td>\n",
       "      <td>13.65</td>\n",
       "      <td>8.6</td>\n",
       "      <td>1302.0</td>\n",
       "    </tr>\n",
       "    <tr>\n",
       "      <th>2023-04</th>\n",
       "      <td>0.61</td>\n",
       "      <td>0.53</td>\n",
       "      <td>-1.56</td>\n",
       "      <td>0.43</td>\n",
       "      <td>0.14</td>\n",
       "      <td>0.23</td>\n",
       "      <td>13.65</td>\n",
       "      <td>9.09</td>\n",
       "      <td>1302.0</td>\n",
       "    </tr>\n",
       "    <tr>\n",
       "      <th>2023-05</th>\n",
       "      <td>0.23</td>\n",
       "      <td>0.36</td>\n",
       "      <td>-3.37</td>\n",
       "      <td>0.2</td>\n",
       "      <td>0.59</td>\n",
       "      <td>0.4</td>\n",
       "      <td>13.65</td>\n",
       "      <td>9.34</td>\n",
       "      <td>1320.0</td>\n",
       "    </tr>\n",
       "  </tbody>\n",
       "</table>\n",
       "<p>521 rows × 9 columns</p>\n",
       "</div>"
      ],
      "text/plain": [
       "           ipca_variacao inpc_variacao ipa_variacao ipc_fipe_variacao  \\\n",
       "referencia                                                              \n",
       "1980-01             6.62          6.56         7.31              4.48   \n",
       "1980-02             4.62          4.15         3.69              3.35   \n",
       "1980-03             6.04          5.12         6.32              4.34   \n",
       "1980-04             5.29          4.85         6.69              3.93   \n",
       "1980-05              5.7          5.53         7.32              6.52   \n",
       "...                  ...           ...          ...               ...   \n",
       "2023-01             0.53          0.46        -0.19              0.63   \n",
       "2023-02             0.84          0.77        -0.04              0.43   \n",
       "2023-03             0.71          0.64        -0.71              0.39   \n",
       "2023-04             0.61          0.53        -1.56              0.43   \n",
       "2023-05             0.23          0.36        -3.37               0.2   \n",
       "\n",
       "           incc_variacao incc_m_variacao selic_ano juros_reais salario_minimo  \n",
       "referencia                                                                     \n",
       "1980-01              4.7             0.0       0.0         0.0         2932.8  \n",
       "1980-02             9.53             0.0       0.0         0.0         2932.8  \n",
       "1980-03             12.8             0.0       0.0         0.0         2932.8  \n",
       "1980-04             3.13             0.0       0.0         0.0         2932.8  \n",
       "1980-05             4.86             0.0       0.0         0.0         4149.6  \n",
       "...                  ...             ...       ...         ...            ...  \n",
       "2023-01             0.46            0.32     13.65        7.45         1302.0  \n",
       "2023-02             0.05            0.21     13.65        7.62         1302.0  \n",
       "2023-03              0.3            0.18     13.65         8.6         1302.0  \n",
       "2023-04             0.14            0.23     13.65        9.09         1302.0  \n",
       "2023-05             0.59             0.4     13.65        9.34         1320.0  \n",
       "\n",
       "[521 rows x 9 columns]"
      ]
     },
     "execution_count": 8,
     "metadata": {},
     "output_type": "execute_result"
    }
   ],
   "source": [
    "df_ipca.drop(columns=columns_to_remove)"
   ]
  },
  {
   "cell_type": "markdown",
   "metadata": {
    "id": "AXJBaHVEfHkv"
   },
   "source": [
    "## Pré-processamento"
   ]
  },
  {
   "cell_type": "markdown",
   "metadata": {
    "id": "oIvs-oGcr24V"
   },
   "source": [
    "### Separando x e y"
   ]
  },
  {
   "cell_type": "code",
   "execution_count": 9,
   "metadata": {
    "id": "Hcl3EXK0y5DY"
   },
   "outputs": [],
   "source": [
    "#x_ipca = df_ipca[['inpc_variacao', 'ipa_variacao', 'ipc_fipe_variacao', 'incc_variacao', 'incc_m_variacao', 'selic_ano', 'juros_reais', 'salario_minimo']]\n",
    "x_ipca = df_ipca['ipca_variacao']"
   ]
  },
  {
   "cell_type": "code",
   "execution_count": 10,
   "metadata": {
    "colab": {
     "base_uri": "https://localhost:8080/",
     "height": 310
    },
    "id": "e8iTXa3dzmIY",
    "outputId": "f66e4a6f-fe6d-4024-f861-7dee19be4759"
   },
   "outputs": [
    {
     "data": {
      "text/plain": [
       "referencia\n",
       "1980-01    6.62\n",
       "1980-02    4.62\n",
       "1980-03    6.04\n",
       "1980-04    5.29\n",
       "1980-05     5.7\n",
       "Name: ipca_variacao, dtype: object"
      ]
     },
     "execution_count": 10,
     "metadata": {},
     "output_type": "execute_result"
    }
   ],
   "source": [
    "x_ipca.head(5)"
   ]
  },
  {
   "cell_type": "code",
   "execution_count": 11,
   "metadata": {
    "id": "Oks1XorRhxu-"
   },
   "outputs": [],
   "source": [
    "y_ipca = df_ipca['ipca_variacao']"
   ]
  },
  {
   "cell_type": "code",
   "execution_count": 12,
   "metadata": {
    "colab": {
     "base_uri": "https://localhost:8080/",
     "height": 310
    },
    "id": "9o_kzbwMLbfr",
    "outputId": "fe89e7c3-148d-4143-d351-436e92120134"
   },
   "outputs": [
    {
     "data": {
      "text/plain": [
       "referencia\n",
       "1980-01    6.62\n",
       "1980-02    4.62\n",
       "1980-03    6.04\n",
       "1980-04    5.29\n",
       "1980-05     5.7\n",
       "Name: ipca_variacao, dtype: object"
      ]
     },
     "execution_count": 12,
     "metadata": {},
     "output_type": "execute_result"
    }
   ],
   "source": [
    "y_ipca.head(5)"
   ]
  },
  {
   "cell_type": "markdown",
   "metadata": {
    "id": "E9DDYfxBgj9D"
   },
   "source": [
    "Vamos realizar os seguintes procedimentos:\n",
    "- Preparando o tamanho para entrada na rede neural\n",
    "- Normalização dos dados"
   ]
  },
  {
   "cell_type": "markdown",
   "metadata": {
    "id": "TU62O9fVJnEQ"
   },
   "source": [
    "### Organizando nossos inputs e saídas esperadas\n",
    "\n",
    "Vamos prever o ipca do pŕoximo mês usando dados dos últimos 12 meses. Ou seja, teremos uma sequência de 12 meses de inputs/dados e queremos predizer o ipca para o mês depois desta sequência."
   ]
  },
  {
   "cell_type": "code",
   "execution_count": 13,
   "metadata": {
    "id": "LgpJvilkKB-S"
   },
   "outputs": [],
   "source": [
    "# Queremos prever o mês seguinte da sequência, então a label está um passo no futuro apenas\n",
    "shift_steps = 1"
   ]
  },
  {
   "cell_type": "code",
   "execution_count": 14,
   "metadata": {
    "id": "_eXez0DUKdaQ"
   },
   "outputs": [],
   "source": [
    "y_ipca = y_ipca.shift(-shift_steps)"
   ]
  },
  {
   "cell_type": "code",
   "execution_count": 15,
   "metadata": {
    "colab": {
     "base_uri": "https://localhost:8080/",
     "height": 310
    },
    "id": "LbFBszLgL00A",
    "outputId": "cb1c9f1c-3737-4351-8af7-f291c9264565"
   },
   "outputs": [
    {
     "data": {
      "text/plain": [
       "referencia\n",
       "2023-01    0.84\n",
       "2023-02    0.71\n",
       "2023-03    0.61\n",
       "2023-04    0.23\n",
       "2023-05    None\n",
       "Name: ipca_variacao, dtype: object"
      ]
     },
     "execution_count": 15,
     "metadata": {},
     "output_type": "execute_result"
    }
   ],
   "source": [
    "y_ipca.tail()"
   ]
  },
  {
   "cell_type": "markdown",
   "metadata": {
    "id": "GeBrgnfZLYgX"
   },
   "source": [
    "Removendo agora os valores que não temos devido ao shift de 1 mês."
   ]
  },
  {
   "cell_type": "code",
   "execution_count": 16,
   "metadata": {
    "colab": {
     "base_uri": "https://localhost:8080/"
    },
    "id": "HUJuQLxbLXx4",
    "outputId": "9707d336-76d8-43ed-8019-bb3efaea2577"
   },
   "outputs": [
    {
     "data": {
      "text/plain": [
       "(520,)"
      ]
     },
     "execution_count": 16,
     "metadata": {},
     "output_type": "execute_result"
    }
   ],
   "source": [
    "x_ipca = x_ipca.values[0:-shift_steps]\n",
    "x_ipca.shape"
   ]
  },
  {
   "cell_type": "code",
   "execution_count": 17,
   "metadata": {
    "colab": {
     "base_uri": "https://localhost:8080/"
    },
    "id": "7WODiiTzL5_T",
    "outputId": "dbb2c20c-f8e9-40b4-dc9e-03b3e34b88e6"
   },
   "outputs": [
    {
     "data": {
      "text/plain": [
       "(520,)"
      ]
     },
     "execution_count": 17,
     "metadata": {},
     "output_type": "execute_result"
    }
   ],
   "source": [
    "y_ipca = y_ipca.values[0:-shift_steps]\n",
    "y_ipca.shape"
   ]
  },
  {
   "cell_type": "markdown",
   "metadata": {
    "id": "RCdQDKNL0SiJ"
   },
   "source": [
    "### Normalizando x"
   ]
  },
  {
   "cell_type": "code",
   "execution_count": 18,
   "metadata": {
    "colab": {
     "base_uri": "https://localhost:8080/"
    },
    "id": "C7B48j2z0n-f",
    "outputId": "c2f8aa1b-caab-4693-c20a-b66dbdd20992"
   },
   "outputs": [
    {
     "name": "stdout",
     "output_type": "stream",
     "text": [
      "[6.62 4.62 6.04 5.29 5.7]\n"
     ]
    }
   ],
   "source": [
    "print(x_ipca[:5])"
   ]
  },
  {
   "cell_type": "code",
   "execution_count": 19,
   "metadata": {
    "colab": {
     "base_uri": "https://localhost:8080/"
    },
    "id": "1uI4HwE60HqL",
    "outputId": "7d575d26-b463-46ea-b041-c301f6753317"
   },
   "outputs": [
    {
     "name": "stdout",
     "output_type": "stream",
     "text": [
      "(520,)\n"
     ]
    }
   ],
   "source": [
    "print(x_ipca.shape)"
   ]
  },
  {
   "cell_type": "code",
   "execution_count": 20,
   "metadata": {
    "colab": {
     "base_uri": "https://localhost:8080/"
    },
    "id": "v1wzkanHaM9F",
    "outputId": "ffd8cd29-2278-43d5-e869-6d6b59b7c710"
   },
   "outputs": [
    {
     "name": "stdout",
     "output_type": "stream",
     "text": [
      "(520, 1)\n"
     ]
    }
   ],
   "source": [
    "x_ipca = x_ipca.reshape(-1, 1)\n",
    "print(x_ipca.shape)"
   ]
  },
  {
   "cell_type": "code",
   "execution_count": 21,
   "metadata": {
    "id": "SaDuj-9U0JtE"
   },
   "outputs": [],
   "source": [
    "x_scaler = MinMaxScaler()\n",
    "x_ipca_norm = x_scaler.fit_transform(x_ipca)\n"
   ]
  },
  {
   "cell_type": "code",
   "execution_count": 22,
   "metadata": {
    "colab": {
     "base_uri": "https://localhost:8080/"
    },
    "id": "kHU1h5T9akDc",
    "outputId": "cc902d12-5e89-40a3-ab98-f1bd1c03ad09"
   },
   "outputs": [
    {
     "name": "stdout",
     "output_type": "stream",
     "text": [
      "[[0.08787769]\n",
      " [0.06380161]\n",
      " [0.08089563]\n",
      " [0.0718671 ]\n",
      " [0.0768027 ]]\n"
     ]
    }
   ],
   "source": [
    "print(x_ipca_norm[:5])"
   ]
  },
  {
   "cell_type": "markdown",
   "metadata": {
    "id": "8gXlEPvT0V5S"
   },
   "source": [
    "### Normalizando y"
   ]
  },
  {
   "cell_type": "code",
   "execution_count": 23,
   "metadata": {
    "id": "tBHJVy0Vb5tH"
   },
   "outputs": [],
   "source": [
    "y_ipca = y_ipca.reshape((len(y_ipca),1))"
   ]
  },
  {
   "cell_type": "code",
   "execution_count": 24,
   "metadata": {
    "colab": {
     "base_uri": "https://localhost:8080/"
    },
    "id": "_NB3lJv-bsx2",
    "outputId": "d1fe76c5-1c63-4ab2-9497-94eb44952ae7"
   },
   "outputs": [
    {
     "name": "stdout",
     "output_type": "stream",
     "text": [
      "[[4.62]\n",
      " [6.04]\n",
      " [5.29]\n",
      " [5.7]\n",
      " [5.31]]\n"
     ]
    }
   ],
   "source": [
    "print(y_ipca[:5])"
   ]
  },
  {
   "cell_type": "code",
   "execution_count": 25,
   "metadata": {
    "id": "pa3T21oygS9H"
   },
   "outputs": [],
   "source": [
    "y_scaler = MinMaxScaler()\n",
    "y_ipca_norm = y_scaler.fit_transform(y_ipca)"
   ]
  },
  {
   "cell_type": "code",
   "execution_count": 26,
   "metadata": {
    "colab": {
     "base_uri": "https://localhost:8080/"
    },
    "id": "m4Ks5JUCayVf",
    "outputId": "be422225-ff88-4bec-a7ef-44c76079a912"
   },
   "outputs": [
    {
     "name": "stdout",
     "output_type": "stream",
     "text": [
      "[[0.06380161]\n",
      " [0.08089563]\n",
      " [0.0718671 ]\n",
      " [0.0768027 ]\n",
      " [0.07210786]]\n"
     ]
    }
   ],
   "source": [
    "print(y_ipca_norm[:5])"
   ]
  },
  {
   "cell_type": "markdown",
   "metadata": {
    "id": "1RPo11bzSjxt"
   },
   "source": [
    "### Separando em conjunto de treino e teste"
   ]
  },
  {
   "cell_type": "code",
   "execution_count": 27,
   "metadata": {
    "id": "48yo2hd6YzDL"
   },
   "outputs": [],
   "source": [
    "train_split = 0.7"
   ]
  },
  {
   "cell_type": "code",
   "execution_count": 28,
   "metadata": {
    "colab": {
     "base_uri": "https://localhost:8080/"
    },
    "id": "OHnqwRWWbZ0T",
    "outputId": "c39dbc4d-84ae-4e7e-ca69-0c24fe1384a9"
   },
   "outputs": [
    {
     "name": "stdout",
     "output_type": "stream",
     "text": [
      "364\n"
     ]
    }
   ],
   "source": [
    "num_train = int(train_split * len(x_ipca_norm))\n",
    "print(num_train)"
   ]
  },
  {
   "cell_type": "code",
   "execution_count": 29,
   "metadata": {
    "colab": {
     "base_uri": "https://localhost:8080/"
    },
    "id": "tkgBivp1b1XD",
    "outputId": "1d0bbc82-efd9-4d68-a98f-4e2a61bf8a84"
   },
   "outputs": [
    {
     "name": "stdout",
     "output_type": "stream",
     "text": [
      "156\n"
     ]
    }
   ],
   "source": [
    "num_test = len(x_ipca_norm) - num_train\n",
    "print(num_test)"
   ]
  },
  {
   "cell_type": "code",
   "execution_count": 30,
   "metadata": {
    "id": "5UiF-GBdcDar"
   },
   "outputs": [],
   "source": [
    "x_train = x_ipca_norm[0:num_train]\n",
    "x_test = x_ipca_norm[num_train:]"
   ]
  },
  {
   "cell_type": "code",
   "execution_count": 31,
   "metadata": {
    "id": "iVmBEirncQlp"
   },
   "outputs": [],
   "source": [
    "y_train = y_ipca_norm[0:num_train]\n",
    "y_test = y_ipca_norm[num_train:]"
   ]
  },
  {
   "cell_type": "markdown",
   "metadata": {
    "id": "l9qGps-Eyigq"
   },
   "source": [
    "### TimeSeriesSplit"
   ]
  },
  {
   "cell_type": "code",
   "execution_count": 32,
   "metadata": {
    "id": "qHmfMjeORIaD"
   },
   "outputs": [],
   "source": [
    "from sklearn.model_selection import TimeSeriesSplit"
   ]
  },
  {
   "cell_type": "code",
   "execution_count": 33,
   "metadata": {
    "id": "NogLLApnl3as"
   },
   "outputs": [],
   "source": [
    "n_splits = 5"
   ]
  },
  {
   "cell_type": "code",
   "execution_count": 34,
   "metadata": {
    "id": "xPdkXM83ymgW"
   },
   "outputs": [],
   "source": [
    "tscv = TimeSeriesSplit(n_splits=n_splits)"
   ]
  },
  {
   "cell_type": "markdown",
   "metadata": {
    "id": "wy_FpolFOMe8"
   },
   "source": [
    "### Função para gerar batches"
   ]
  },
  {
   "cell_type": "code",
   "execution_count": 35,
   "metadata": {
    "id": "67mECiE30ZQQ"
   },
   "outputs": [],
   "source": [
    "seq_length = 12"
   ]
  },
  {
   "cell_type": "code",
   "execution_count": 36,
   "metadata": {
    "id": "kECPwH4--ijk"
   },
   "outputs": [],
   "source": [
    "def create_sequences(data, data_target, seq_length):\n",
    "    X, y = [], []\n",
    "    start_index = data_target[0]\n",
    "    end_index = data_target[len(data_target) - 1]\n",
    "\n",
    "    #print(f'len(data):{len(data)}\\ndata.shape:{data.shape}\\nlen(data_target):{len(data_target)}\\ndata_target.shape:{data_target.shape}')\n",
    "    for i in range(len(data) - seq_length):\n",
    "        X.append(data[i : i+(seq_length)])\n",
    "        y.append(data_target[i+(seq_length)-1])  # O valor a ser previsto é o do próximo mês\n",
    "        #print(f\"indices do x {[i for i in range (i, i+(seq_length))]} \\n  indice y {i+(seq_length)-1}\")\n",
    "\n",
    "    return np.array(X), np.array(y)"
   ]
  },
  {
   "cell_type": "markdown",
   "metadata": {
    "id": "i_umpsU_0Y_5"
   },
   "source": [
    "```Python\n",
    "def create_sequences(data, target_index, seq_length):\n",
    "    X, y = [], []\n",
    "    for i in range(len(data) - seq_length):\n",
    "        X.append(data[i:i+seq_length])\n",
    "        y.append(data[i+seq_length, target_index])  # O valor a ser previsto é o do próximo mês\n",
    "    return np.array(X), np.array(y)\n",
    "```"
   ]
  },
  {
   "cell_type": "markdown",
   "metadata": {
    "id": "rEvgNM490SCj"
   },
   "source": [
    "```Python\n",
    "from sklearn.model_selection import TimeSeriesSplit\n",
    "\n",
    "# Exemplo de TimeSeriesSplit\n",
    "tscv = TimeSeriesSplit(n_splits=5)\n",
    "\n",
    "# Aplicando o split\n",
    "for train_index, test_index in tscv.split(data):\n",
    "    train_data, test_data = data[train_index], data[test_index]\n",
    "\n",
    "    # Criação das sequências temporais\n",
    "    X_train, y_train = create_sequences(train_data, target_index, sequence_length)\n",
    "    X_test, y_test = create_sequences(test_data, target_index, sequence_length)\n",
    "\n",
    "    # Agora você pode treinar a RNN com os dados desta divisão\n",
    "\n",
    "```"
   ]
  },
  {
   "cell_type": "markdown",
   "metadata": {
    "id": "YNz0v2G-sCJm"
   },
   "source": [
    "## Criando o modelo"
   ]
  },
  {
   "cell_type": "markdown",
   "metadata": {
    "id": "0Bx4iq6qusvb"
   },
   "source": [
    "### Building the model"
   ]
  },
  {
   "cell_type": "code",
   "execution_count": 37,
   "metadata": {
    "id": "pgfOhI-MukXE"
   },
   "outputs": [],
   "source": [
    "def build_model(model_type='LSTM', neurons=50, input_shape=(None, 1)):\n",
    "  model = Sequential()\n",
    "  if model_type == 'LSTM':\n",
    "    model.add(tf.keras.Input(shape=input_shape))\n",
    "    model.add(LSTM(neurons, activation='relu'))\n",
    "  elif model_type == 'GRU':\n",
    "    model.add(tf.keras.Input(shape=input_shape))\n",
    "    model.add(GRU(neurons, activation='relu'))\n",
    "  elif model_type == 'TANH':\n",
    "    model.add(tf.keras.Input(shape=input_shape))\n",
    "    model.add(SimpleRNN(neurons, activation='relu'))\n",
    "  elif model_type == 'TCN':\n",
    "    model.add(tf.keras.Input(shape=input_shape))\n",
    "    model.add(TCN(neurons))  # Adicionando a camada TCN\n",
    "\n",
    "  model.add(Dense(1, activation='sigmoid'))\n",
    "  adam = tf.keras.optimizers.Adam(learning_rate=0.0005)\n",
    "  model.compile(optimizer=adam, loss='mean_squared_error')\n",
    "  return model"
   ]
  },
  {
   "cell_type": "markdown",
   "metadata": {
    "id": "LWUbXILGuFvS"
   },
   "source": [
    "## Treinamento"
   ]
  },
  {
   "cell_type": "code",
   "execution_count": 63,
   "metadata": {
    "id": "1BZ48HWLt9gU"
   },
   "outputs": [],
   "source": [
    "epochs = 50"
   ]
  },
  {
   "cell_type": "code",
   "execution_count": 64,
   "metadata": {
    "id": "ly7o0n9gpToX"
   },
   "outputs": [],
   "source": [
    "import math\n",
    "from sklearn.metrics import mean_squared_error\n",
    "#from math import mean_squared_error"
   ]
  },
  {
   "cell_type": "code",
   "execution_count": 65,
   "metadata": {
    "id": "MKzwFW_LsMAn"
   },
   "outputs": [],
   "source": [
    "def train(model, x_train, x_test, y_train, y_test, seq_length=12, epochs=100, verbose=0):\n",
    "  rmse_scores = []\n",
    "  histories = []\n",
    "  #model = build_model(model_name, input_shape=(X_train_seq.shape[1], 1))\n",
    "  for train_index, test_index in tscv.split(x_train):\n",
    "    # Obtem o indices das amostras que serao utilizadas para os folds\n",
    "    x_train_fold, x_test_fold, y_train_fold, y_test_fold = x_train[train_index], x_train[test_index], y_train[train_index], y_train[test_index]\n",
    "    # Gera as sequencias de treinamento e suas labels usando o fold\n",
    "    x_train_fold_seq, y_train_fold_seq = create_sequences(x_train_fold, y_train_fold, seq_length)\n",
    "    # Gera as sequencias de teste e suas labels usando o fold\n",
    "    x_test_fold_seq, y_test_fold_seq = create_sequences(x_test_fold, y_test_fold, seq_length)\n",
    "\n",
    "    history = model.fit(x_train_fold_seq, y_train_fold_seq, epochs=epochs, verbose=verbose)  # Ajuste as épocas conforme necessário\n",
    "    histories.append(history.history['loss'])\n",
    "\n",
    "    predictions = model.predict(x_test_fold_seq)\n",
    "\n",
    "    rmse = math.sqrt(mean_squared_error(y_scaler.inverse_transform(y_test_fold_seq), y_scaler.inverse_transform(predictions)))\n",
    "    rmse_scores.append(rmse)\n",
    "\n",
    "  return rmse_scores, histories"
   ]
  },
  {
   "cell_type": "code",
   "execution_count": 84,
   "metadata": {
    "id": "bJSQwMEqwyA5"
   },
   "outputs": [],
   "source": [
    "def test(model, x_test, y_test, seq_length=12):\n",
    "  x_test_seq, y_test_seq = create_sequences(x_test, y_test, seq_length=seq_length)\n",
    "  result_test = model.evaluate(x_test_seq, y_test_seq)\n",
    "  return result_test"
   ]
  },
  {
   "cell_type": "code",
   "execution_count": 85,
   "metadata": {
    "colab": {
     "base_uri": "https://localhost:8080/"
    },
    "id": "LMrl0AemIX5n",
    "outputId": "1889eb89-7666-4787-d309-7e2e92c5b1d5"
   },
   "outputs": [
    {
     "name": "stdout",
     "output_type": "stream",
     "text": [
      "\u001b[1m2/2\u001b[0m \u001b[32m━━━━━━━━━━━━━━━━━━━━\u001b[0m\u001b[37m\u001b[0m \u001b[1m0s\u001b[0m 127ms/step\n",
      "\u001b[1m2/2\u001b[0m \u001b[32m━━━━━━━━━━━━━━━━━━━━\u001b[0m\u001b[37m\u001b[0m \u001b[1m0s\u001b[0m 2ms/step \n",
      "\u001b[1m2/2\u001b[0m \u001b[32m━━━━━━━━━━━━━━━━━━━━\u001b[0m\u001b[37m\u001b[0m \u001b[1m0s\u001b[0m 3ms/step \n",
      "\u001b[1m2/2\u001b[0m \u001b[32m━━━━━━━━━━━━━━━━━━━━\u001b[0m\u001b[37m\u001b[0m \u001b[1m0s\u001b[0m 2ms/step \n",
      "\u001b[1m2/2\u001b[0m \u001b[32m━━━━━━━━━━━━━━━━━━━━\u001b[0m\u001b[37m\u001b[0m \u001b[1m0s\u001b[0m 2ms/step \n",
      "\u001b[1m5/5\u001b[0m \u001b[32m━━━━━━━━━━━━━━━━━━━━\u001b[0m\u001b[37m\u001b[0m \u001b[1m0s\u001b[0m 2ms/step - loss: 9.1624e-05  \n",
      "\u001b[1m2/2\u001b[0m \u001b[32m━━━━━━━━━━━━━━━━━━━━\u001b[0m\u001b[37m\u001b[0m \u001b[1m0s\u001b[0m 129ms/step\n",
      "\u001b[1m2/2\u001b[0m \u001b[32m━━━━━━━━━━━━━━━━━━━━\u001b[0m\u001b[37m\u001b[0m \u001b[1m0s\u001b[0m 3ms/step \n",
      "\u001b[1m2/2\u001b[0m \u001b[32m━━━━━━━━━━━━━━━━━━━━\u001b[0m\u001b[37m\u001b[0m \u001b[1m0s\u001b[0m 3ms/step \n",
      "\u001b[1m2/2\u001b[0m \u001b[32m━━━━━━━━━━━━━━━━━━━━\u001b[0m\u001b[37m\u001b[0m \u001b[1m0s\u001b[0m 3ms/step \n",
      "\u001b[1m2/2\u001b[0m \u001b[32m━━━━━━━━━━━━━━━━━━━━\u001b[0m\u001b[37m\u001b[0m \u001b[1m0s\u001b[0m 3ms/step \n",
      "\u001b[1m5/5\u001b[0m \u001b[32m━━━━━━━━━━━━━━━━━━━━\u001b[0m\u001b[37m\u001b[0m \u001b[1m0s\u001b[0m 4ms/step - loss: 4.8075e-05  \n",
      "\u001b[1m2/2\u001b[0m \u001b[32m━━━━━━━━━━━━━━━━━━━━\u001b[0m\u001b[37m\u001b[0m \u001b[1m0s\u001b[0m 218ms/step\n",
      "\u001b[1m2/2\u001b[0m \u001b[32m━━━━━━━━━━━━━━━━━━━━\u001b[0m\u001b[37m\u001b[0m \u001b[1m0s\u001b[0m 3ms/step \n",
      "\u001b[1m2/2\u001b[0m \u001b[32m━━━━━━━━━━━━━━━━━━━━\u001b[0m\u001b[37m\u001b[0m \u001b[1m0s\u001b[0m 4ms/step \n",
      "\u001b[1m2/2\u001b[0m \u001b[32m━━━━━━━━━━━━━━━━━━━━\u001b[0m\u001b[37m\u001b[0m \u001b[1m0s\u001b[0m 3ms/step \n",
      "\u001b[1m2/2\u001b[0m \u001b[32m━━━━━━━━━━━━━━━━━━━━\u001b[0m\u001b[37m\u001b[0m \u001b[1m0s\u001b[0m 2ms/step \n",
      "\u001b[1m5/5\u001b[0m \u001b[32m━━━━━━━━━━━━━━━━━━━━\u001b[0m\u001b[37m\u001b[0m \u001b[1m0s\u001b[0m 3ms/step - loss: 5.4059e-05  \n",
      "\u001b[1m2/2\u001b[0m \u001b[32m━━━━━━━━━━━━━━━━━━━━\u001b[0m\u001b[37m\u001b[0m \u001b[1m1s\u001b[0m 353ms/step\n",
      "\u001b[1m2/2\u001b[0m \u001b[32m━━━━━━━━━━━━━━━━━━━━\u001b[0m\u001b[37m\u001b[0m \u001b[1m0s\u001b[0m 4ms/step \n",
      "\u001b[1m2/2\u001b[0m \u001b[32m━━━━━━━━━━━━━━━━━━━━\u001b[0m\u001b[37m\u001b[0m \u001b[1m0s\u001b[0m 3ms/step \n",
      "\u001b[1m2/2\u001b[0m \u001b[32m━━━━━━━━━━━━━━━━━━━━\u001b[0m\u001b[37m\u001b[0m \u001b[1m0s\u001b[0m 6ms/step \n",
      "\u001b[1m2/2\u001b[0m \u001b[32m━━━━━━━━━━━━━━━━━━━━\u001b[0m\u001b[37m\u001b[0m \u001b[1m0s\u001b[0m 3ms/step \n",
      "\u001b[1m5/5\u001b[0m \u001b[32m━━━━━━━━━━━━━━━━━━━━\u001b[0m\u001b[37m\u001b[0m \u001b[1m0s\u001b[0m 4ms/step - loss: 1.0104e-05  \n"
     ]
    }
   ],
   "source": [
    "models_names = ['TANH', 'LSTM', 'GRU', 'TCN']\n",
    "rmse_scores_folds_per_model = []\n",
    "history_per_model = []\n",
    "test_result_per_model = []\n",
    "n_features = len(x_train[0])\n",
    "input_shape = (seq_length, n_features)\n",
    "for i, model_name in enumerate(models_names):\n",
    "  # Cria o modelo\n",
    "  model = build_model(model_type=model_name, input_shape=input_shape)\n",
    "  # Treinamento\n",
    "  rmse_scores_folds, history = train(model, x_train, x_test, y_train, y_test, seq_length, epochs=epochs, verbose=0)\n",
    "  # Teste\n",
    "  test_result = test(model, x_test, y_test, seq_length=seq_length)\n",
    "  # Armazena o os scores rmse e o history de losses durante o processo de treinamento\n",
    "  if i == 0:\n",
    "    rmse_scores_folds_per_model = [rmse_scores_folds]\n",
    "    history_per_model = [history]\n",
    "    test_result_per_model = [[test_result]]\n",
    "  else:\n",
    "    #print(f'rmse array: {rmse_scores_folds_per_model}\\nhistory array: {history_per_model}\\ntest result {test_result_per_model}')\n",
    "    rmse_scores_folds_per_model = np.append(rmse_scores_folds_per_model, [rmse_scores_folds], axis=0)\n",
    "    history_per_model = np.append(history_per_model, [history], axis=0)\n",
    "    test_result_per_model = np.append(test_result_per_model, [[test_result]], axis=0)"
   ]
  },
  {
   "cell_type": "code",
   "execution_count": 86,
   "metadata": {
    "id": "aKBPd5u5K3uq"
   },
   "outputs": [],
   "source": [
    "def plotTrainingPerformance(history, epochs, models_names):\n",
    "  epochs_vec = [i for i in range(len(history[0]))]\n",
    "  for i in range(len(history)):\n",
    "    plt.plot(epochs_vec, history[i], label=models_names[i])\n",
    "\n",
    "  plt.legend(title='Models')\n",
    "  plt.title('Loss over epochs')\n",
    "  plt.show(True)\n",
    "  return"
   ]
  },
  {
   "cell_type": "code",
   "execution_count": 87,
   "metadata": {
    "id": "V9q917XimNp9"
   },
   "outputs": [],
   "source": [
    "def plotRMSEScores(rmse, models_names):\n",
    "  aux = [i for i in range(len(rmse[0]))]\n",
    "  for i in range(len(rmse)):\n",
    "    plt.plot(aux, rmse[i], 'o-', label=models_names[i])\n",
    "\n",
    "  plt.legend(title='Models')\n",
    "  plt.title('RMSE Scores on folds')\n",
    "  plt.show(True)\n",
    "  return"
   ]
  },
  {
   "cell_type": "code",
   "execution_count": 88,
   "metadata": {
    "id": "Sl55fauMr5Oh"
   },
   "outputs": [],
   "source": [
    "def TestResult(test_result, models_names):\n",
    "  aux = test_result.reshape(4)\n",
    "  plt.bar(models_names, aux)\n",
    "  plt.xticks([0,1,2,3], models_names)\n",
    "  plt.title('Loss on Test set per model')\n",
    "  plt.show(True)\n",
    "  return"
   ]
  },
  {
   "cell_type": "code",
   "execution_count": 89,
   "metadata": {
    "id": "dzk3JlcijoZU"
   },
   "outputs": [],
   "source": [
    "history_per_model = history_per_model.reshape(4, n_splits * epochs)"
   ]
  },
  {
   "cell_type": "code",
   "execution_count": 90,
   "metadata": {
    "colab": {
     "base_uri": "https://localhost:8080/",
     "height": 452
    },
    "id": "KdO1qQExXLwO",
    "outputId": "80cc1e14-e8d1-44ab-c586-74c89e96086d"
   },
   "outputs": [
    {
     "data": {
      "image/png": "[encoded data removed]",
      "text/plain": [
       "<Figure size 640x480 with 1 Axes>"
      ]
     },
     "metadata": {},
     "output_type": "display_data"
    }
   ],
   "source": [
    "plotTrainingPerformance(history_per_model, epochs, models_names)"
   ]
  },
  {
   "cell_type": "code",
   "execution_count": 91,
   "metadata": {
    "colab": {
     "base_uri": "https://localhost:8080/",
     "height": 452
    },
    "id": "N6c8sNoCnD2J",
    "outputId": "5282fbab-130e-4577-88da-e64a3509c37f"
   },
   "outputs": [
    {
     "data": {
      "image/png": "[encoded data removed]",
      "text/plain": [
       "<Figure size 640x480 with 1 Axes>"
      ]
     },
     "metadata": {},
     "output_type": "display_data"
    }
   ],
   "source": [
    "plotRMSEScores(rmse_scores_folds_per_model, models_names)"
   ]
  },
  {
   "cell_type": "code",
   "execution_count": 92,
   "metadata": {
    "colab": {
     "base_uri": "https://localhost:8080/",
     "height": 506
    },
    "id": "4M2T5wY4ojlj",
    "outputId": "de217332-f908-4437-a558-84c9922c6074"
   },
   "outputs": [
    {
     "name": "stdout",
     "output_type": "stream",
     "text": [
      "[[9.83768186e-05]\n",
      " [5.33837738e-05]\n",
      " [5.88915427e-05]\n",
      " [1.42133858e-05]]\n"
     ]
    },
    {
     "data": {
      "image/png": "[encoded data removed]",
      "text/plain": [
       "<Figure size 640x480 with 1 Axes>"
      ]
     },
     "metadata": {},
     "output_type": "display_data"
    }
   ],
   "source": [
    "print(test_result_per_model)\n",
    "TestResult(test_result_per_model, models_names)"
   ]
  },
  {
   "cell_type": "code",
   "execution_count": null,
   "metadata": {},
   "outputs": [],
   "source": []
  }
 ],
 "metadata": {
  "colab": {
   "collapsed_sections": [
    "iusYBcz6sBbt",
    "IzxqWjGseMyA",
    "oIvs-oGcr24V",
    "TU62O9fVJnEQ",
    "1RPo11bzSjxt",
    "wy_FpolFOMe8"
   ],
   "provenance": []
  },
  "kernelspec": {
   "display_name": "Python 3 (ipykernel)",
   "language": "python",
   "name": "python3"
  },
  "language_info": {
   "codemirror_mode": {
    "name": "ipython",
    "version": 3
   },
   "file_extension": ".py",
   "mimetype": "text/x-python",
   "name": "python",
   "nbconvert_exporter": "python",
   "pygments_lexer": "ipython3",
   "version": "3.12.3"
  }
 },
 "nbformat": 4,
 "nbformat_minor": 4
}
